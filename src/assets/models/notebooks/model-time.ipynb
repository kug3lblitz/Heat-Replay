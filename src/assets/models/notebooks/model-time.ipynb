{
 "cells": [
  {
   "cell_type": "markdown",
   "metadata": {},
   "source": [
    "# Model with time"
   ]
  },
  {
   "cell_type": "code",
   "execution_count": 1,
   "metadata": {
    "collapsed": false
   },
   "outputs": [],
   "source": [
    "from numpy import newaxis\n",
    "from scipy import stats\n",
    "from seaborn import set as sns_set\n",
    "from seaborn import FacetGrid, heatmap\n",
    "from sklearn import grid_search\n",
    "from sklearn.cross_validation import train_test_split\n",
    "from sklearn.metrics import confusion_matrix, roc_auc_score, roc_curve\n",
    "\n",
    "from context import *\n",
    "from util.dfmgmt import initSet, wrangle\n",
    "from util.polarize import *"
   ]
  },
  {
   "cell_type": "code",
   "execution_count": 2,
   "metadata": {
    "collapsed": false
   },
   "outputs": [],
   "source": [
    "sns_set(style=\"whitegrid\", font_scale=1)\n",
    "%matplotlib inline\n",
    "\n",
    "target = 'charted'  # main feature to be predicted\n",
    "\n",
    "bestParam = int(getBestParam('best_param_time.txt'))"
   ]
  },
  {
   "cell_type": "code",
   "execution_count": 3,
   "metadata": {
    "collapsed": false
   },
   "outputs": [],
   "source": [
    "df = initSet()"
   ]
  },
  {
   "cell_type": "code",
   "execution_count": 4,
   "metadata": {
    "collapsed": false
   },
   "outputs": [
    {
     "data": {
      "text/html": [
       "<div>\n",
       "<table border=\"1\" class=\"dataframe\">\n",
       "  <thead>\n",
       "    <tr style=\"text-align: right;\">\n",
       "      <th></th>\n",
       "      <th>year</th>\n",
       "      <th>decade</th>\n",
       "      <th>unique_words</th>\n",
       "      <th>density</th>\n",
       "      <th>unique_words_raw</th>\n",
       "      <th>density_raw</th>\n",
       "      <th>nouns</th>\n",
       "      <th>verbs</th>\n",
       "      <th>adjectives</th>\n",
       "      <th>syllables</th>\n",
       "      <th>most_used_term</th>\n",
       "      <th>most_used_freq</th>\n",
       "      <th>explicit</th>\n",
       "      <th>total_curses</th>\n",
       "      <th>reading_score</th>\n",
       "      <th>sentiment</th>\n",
       "      <th>charted</th>\n",
       "    </tr>\n",
       "  </thead>\n",
       "  <tbody>\n",
       "    <tr>\n",
       "      <th>0</th>\n",
       "      <td>1961</td>\n",
       "      <td>1960</td>\n",
       "      <td>36</td>\n",
       "      <td>72</td>\n",
       "      <td>65</td>\n",
       "      <td>158</td>\n",
       "      <td>34</td>\n",
       "      <td>30</td>\n",
       "      <td>10</td>\n",
       "      <td>70</td>\n",
       "      <td>rose</td>\n",
       "      <td>7</td>\n",
       "      <td>0</td>\n",
       "      <td>0</td>\n",
       "      <td>2.367848</td>\n",
       "      <td>0.9901</td>\n",
       "      <td>0</td>\n",
       "    </tr>\n",
       "    <tr>\n",
       "      <th>1</th>\n",
       "      <td>1961</td>\n",
       "      <td>1960</td>\n",
       "      <td>45</td>\n",
       "      <td>91</td>\n",
       "      <td>74</td>\n",
       "      <td>197</td>\n",
       "      <td>45</td>\n",
       "      <td>37</td>\n",
       "      <td>19</td>\n",
       "      <td>81</td>\n",
       "      <td>name</td>\n",
       "      <td>6</td>\n",
       "      <td>0</td>\n",
       "      <td>0</td>\n",
       "      <td>2.771777</td>\n",
       "      <td>0.9712</td>\n",
       "      <td>1</td>\n",
       "    </tr>\n",
       "    <tr>\n",
       "      <th>2</th>\n",
       "      <td>1961</td>\n",
       "      <td>1960</td>\n",
       "      <td>54</td>\n",
       "      <td>103</td>\n",
       "      <td>88</td>\n",
       "      <td>223</td>\n",
       "      <td>45</td>\n",
       "      <td>48</td>\n",
       "      <td>17</td>\n",
       "      <td>98</td>\n",
       "      <td>babi</td>\n",
       "      <td>10</td>\n",
       "      <td>0</td>\n",
       "      <td>0</td>\n",
       "      <td>3.885650</td>\n",
       "      <td>0.9974</td>\n",
       "      <td>1</td>\n",
       "    </tr>\n",
       "    <tr>\n",
       "      <th>3</th>\n",
       "      <td>1961</td>\n",
       "      <td>1960</td>\n",
       "      <td>42</td>\n",
       "      <td>148</td>\n",
       "      <td>66</td>\n",
       "      <td>263</td>\n",
       "      <td>81</td>\n",
       "      <td>61</td>\n",
       "      <td>36</td>\n",
       "      <td>76</td>\n",
       "      <td>love</td>\n",
       "      <td>24</td>\n",
       "      <td>0</td>\n",
       "      <td>0</td>\n",
       "      <td>2.889886</td>\n",
       "      <td>0.9993</td>\n",
       "      <td>1</td>\n",
       "    </tr>\n",
       "    <tr>\n",
       "      <th>4</th>\n",
       "      <td>1961</td>\n",
       "      <td>1960</td>\n",
       "      <td>28</td>\n",
       "      <td>131</td>\n",
       "      <td>60</td>\n",
       "      <td>354</td>\n",
       "      <td>56</td>\n",
       "      <td>77</td>\n",
       "      <td>5</td>\n",
       "      <td>57</td>\n",
       "      <td>come</td>\n",
       "      <td>38</td>\n",
       "      <td>0</td>\n",
       "      <td>0</td>\n",
       "      <td>2.940000</td>\n",
       "      <td>0.9812</td>\n",
       "      <td>1</td>\n",
       "    </tr>\n",
       "  </tbody>\n",
       "</table>\n",
       "</div>"
      ],
      "text/plain": [
       "   year  decade  unique_words  density  unique_words_raw  density_raw  nouns  \\\n",
       "0  1961    1960            36       72                65          158     34   \n",
       "1  1961    1960            45       91                74          197     45   \n",
       "2  1961    1960            54      103                88          223     45   \n",
       "3  1961    1960            42      148                66          263     81   \n",
       "4  1961    1960            28      131                60          354     56   \n",
       "\n",
       "   verbs  adjectives  syllables most_used_term  most_used_freq  explicit  \\\n",
       "0     30          10         70           rose               7         0   \n",
       "1     37          19         81           name               6         0   \n",
       "2     48          17         98           babi              10         0   \n",
       "3     61          36         76           love              24         0   \n",
       "4     77           5         57           come              38         0   \n",
       "\n",
       "   total_curses  reading_score  sentiment  charted  \n",
       "0             0       2.367848     0.9901        0  \n",
       "1             0       2.771777     0.9712        1  \n",
       "2             0       3.885650     0.9974        1  \n",
       "3             0       2.889886     0.9993        1  \n",
       "4             0       2.940000     0.9812        1  "
      ]
     },
     "execution_count": 4,
     "metadata": {},
     "output_type": "execute_result"
    }
   ],
   "source": [
    "# Check head\n",
    "df.head()"
   ]
  },
  {
   "cell_type": "markdown",
   "metadata": {},
   "source": [
    "### Build model without time"
   ]
  },
  {
   "cell_type": "code",
   "execution_count": 5,
   "metadata": {
    "collapsed": false
   },
   "outputs": [],
   "source": [
    "df['sentiment_polarity'] = df.apply(sentiment, axis=1)  # classify sentiment score"
   ]
  },
  {
   "cell_type": "code",
   "execution_count": 6,
   "metadata": {
    "collapsed": false
   },
   "outputs": [],
   "source": [
    "# Keep both year and decade\n",
    "dropList = ['most_used_term', 'reading_score']\n",
    "removeList = ['charted']\n",
    "\n",
    "df_new, features = wrangle(df, dropList, removeList, True)"
   ]
  },
  {
   "cell_type": "code",
   "execution_count": 7,
   "metadata": {
    "collapsed": false
   },
   "outputs": [
    {
     "data": {
      "text/plain": [
       "RandomForestClassifier(bootstrap=True, class_weight=None, criterion='gini',\n",
       "            max_depth=None, max_features='auto', max_leaf_nodes=None,\n",
       "            min_samples_leaf=1, min_samples_split=2,\n",
       "            min_weight_fraction_leaf=0.0, n_estimators=256, n_jobs=1,\n",
       "            oob_score=False, random_state=None, verbose=0,\n",
       "            warm_start=False)"
      ]
     },
     "execution_count": 7,
     "metadata": {},
     "output_type": "execute_result"
    }
   ],
   "source": [
    "from sklearn import ensemble\n",
    "\n",
    "# set X and y and build model\n",
    "X = df_new[features]\n",
    "y = df_new[target]\n",
    "\n",
    "# Create separate training and test sets with 60/40 train/test split\n",
    "X_train, X_test, y_train, y_test = train_test_split(\n",
    "        X, y, test_size=0.4, random_state=1000\n",
    ")\n",
    "\n",
    "# train model with classifier and parameter determined best\n",
    "clf = ensemble.RandomForestClassifier(n_estimators=bestParam)\n",
    "clf.fit(X_train, y_train)"
   ]
  },
  {
   "cell_type": "code",
   "execution_count": 8,
   "metadata": {
    "collapsed": false
   },
   "outputs": [
    {
     "name": "stdout",
     "output_type": "stream",
     "text": [
      "Accuracy of training set: 1.000\n",
      "Accuracy of test set: 0.807\n"
     ]
    },
    {
     "data": {
      "image/png": "[encoded data removed]",
      "text/plain": [
       "<matplotlib.figure.Figure at 0x7fee8cc90fd0>"
      ]
     },
     "metadata": {},
     "output_type": "display_data"
    },
    {
     "name": "stdout",
     "output_type": "stream",
     "text": [
      "ROC AUC: 0.861\n"
     ]
    }
   ],
   "source": [
    "# Evaluate accuracy of model on test set\n",
    "print \"Accuracy of training set: %0.3f\" % clf.score(X_train, y_train)\n",
    "print \"Accuracy of test set: %0.3f\" % clf.score(X_test, y_test)\n",
    "\n",
    "# Plot ROC curve and get AUC score\n",
    "y_pred_proba = clf.predict_proba(X_test)[:,1]\n",
    "\n",
    "# Determine the false positive and true positive rates\n",
    "fpr, tpr, t = roc_curve(y_test, y_pred_proba)\n",
    "\n",
    "# Plot of a ROC curve for a specific class\n",
    "plt.figure()\n",
    "plt.plot(fpr, tpr)\n",
    "plt.xlabel(\"False Positive Rate\")\n",
    "plt.ylabel(\"True Positive Rate\")\n",
    "plt.title(\"ROC Curve\")\n",
    "plt.show()\n",
    "\n",
    "# Get ROC AUC score\n",
    "print 'ROC AUC: %0.3f' % roc_auc_score(y_test, y_pred_proba)"
   ]
  },
  {
   "cell_type": "code",
   "execution_count": 9,
   "metadata": {
    "collapsed": false
   },
   "outputs": [
    {
     "data": {
      "image/png": "[encoded data removed]",
      "text/plain": [
       "<matplotlib.figure.Figure at 0x7fee5a002e10>"
      ]
     },
     "metadata": {},
     "output_type": "display_data"
    }
   ],
   "source": [
    "# Get confusion matrix on test set\n",
    "y_pred = clf.predict(X_test)\n",
    "cm = confusion_matrix(y_test, y_pred)\n",
    "cm_normalized = cm.astype('float') / cm.sum(axis=1)[:, newaxis]\n",
    "\n",
    "ax = plt.axes()\n",
    "heatmap(cm_normalized, annot=True)\n",
    "ax.set_ylabel('True')\n",
    "ax.set_xlabel('Pred')\n",
    "plt.show()"
   ]
  },
  {
   "cell_type": "code",
   "execution_count": 10,
   "metadata": {
    "collapsed": false,
    "scrolled": true
   },
   "outputs": [
    {
     "name": "stderr",
     "output_type": "stream",
     "text": [
      "/home/sabbir/anaconda2/envs/venv/lib/python2.7/site-packages/ipykernel/__main__.py:2: SettingWithCopyWarning: \n",
      "A value is trying to be set on a copy of a slice from a DataFrame.\n",
      "Try using .loc[row_indexer,col_indexer] = value instead\n",
      "\n",
      "See the caveats in the documentation: http://pandas.pydata.org/pandas-docs/stable/indexing.html#indexing-view-versus-copy\n",
      "  from ipykernel import kernelapp as app\n",
      "/home/sabbir/anaconda2/envs/venv/lib/python2.7/site-packages/ipykernel/__main__.py:3: SettingWithCopyWarning: \n",
      "A value is trying to be set on a copy of a slice from a DataFrame.\n",
      "Try using .loc[row_indexer,col_indexer] = value instead\n",
      "\n",
      "See the caveats in the documentation: http://pandas.pydata.org/pandas-docs/stable/indexing.html#indexing-view-versus-copy\n",
      "  app.launch_new_instance()\n"
     ]
    }
   ],
   "source": [
    "df_test = X_test\n",
    "df_test['predict'] = y_pred\n",
    "df_test[target] = y_test"
   ]
  },
  {
   "cell_type": "code",
   "execution_count": 11,
   "metadata": {
    "collapsed": false
   },
   "outputs": [
    {
     "data": {
      "text/html": [
       "<div>\n",
       "<table border=\"1\" class=\"dataframe\">\n",
       "  <thead>\n",
       "    <tr style=\"text-align: right;\">\n",
       "      <th></th>\n",
       "      <th>year</th>\n",
       "      <th>decade</th>\n",
       "      <th>unique_words</th>\n",
       "      <th>density</th>\n",
       "      <th>unique_words_raw</th>\n",
       "      <th>density_raw</th>\n",
       "      <th>nouns</th>\n",
       "      <th>verbs</th>\n",
       "      <th>adjectives</th>\n",
       "      <th>syllables</th>\n",
       "      <th>most_used_freq</th>\n",
       "      <th>explicit</th>\n",
       "      <th>total_curses</th>\n",
       "      <th>sentiment</th>\n",
       "      <th>sentiment_polarity</th>\n",
       "      <th>predict</th>\n",
       "      <th>charted</th>\n",
       "    </tr>\n",
       "  </thead>\n",
       "  <tbody>\n",
       "    <tr>\n",
       "      <th>3200</th>\n",
       "      <td>2005</td>\n",
       "      <td>2000</td>\n",
       "      <td>85</td>\n",
       "      <td>201</td>\n",
       "      <td>125</td>\n",
       "      <td>443</td>\n",
       "      <td>126</td>\n",
       "      <td>84</td>\n",
       "      <td>18</td>\n",
       "      <td>147</td>\n",
       "      <td>15</td>\n",
       "      <td>0</td>\n",
       "      <td>0</td>\n",
       "      <td>0.9898</td>\n",
       "      <td>1</td>\n",
       "      <td>0</td>\n",
       "      <td>1</td>\n",
       "    </tr>\n",
       "    <tr>\n",
       "      <th>3463</th>\n",
       "      <td>2007</td>\n",
       "      <td>2000</td>\n",
       "      <td>31</td>\n",
       "      <td>40</td>\n",
       "      <td>61</td>\n",
       "      <td>170</td>\n",
       "      <td>20</td>\n",
       "      <td>49</td>\n",
       "      <td>3</td>\n",
       "      <td>63</td>\n",
       "      <td>3</td>\n",
       "      <td>0</td>\n",
       "      <td>0</td>\n",
       "      <td>0.8442</td>\n",
       "      <td>1</td>\n",
       "      <td>0</td>\n",
       "      <td>0</td>\n",
       "    </tr>\n",
       "    <tr>\n",
       "      <th>1144</th>\n",
       "      <td>1984</td>\n",
       "      <td>1980</td>\n",
       "      <td>41</td>\n",
       "      <td>149</td>\n",
       "      <td>71</td>\n",
       "      <td>339</td>\n",
       "      <td>57</td>\n",
       "      <td>93</td>\n",
       "      <td>11</td>\n",
       "      <td>71</td>\n",
       "      <td>36</td>\n",
       "      <td>0</td>\n",
       "      <td>0</td>\n",
       "      <td>0.9517</td>\n",
       "      <td>1</td>\n",
       "      <td>1</td>\n",
       "      <td>1</td>\n",
       "    </tr>\n",
       "    <tr>\n",
       "      <th>2497</th>\n",
       "      <td>1999</td>\n",
       "      <td>1990</td>\n",
       "      <td>72</td>\n",
       "      <td>134</td>\n",
       "      <td>111</td>\n",
       "      <td>285</td>\n",
       "      <td>59</td>\n",
       "      <td>54</td>\n",
       "      <td>16</td>\n",
       "      <td>123</td>\n",
       "      <td>13</td>\n",
       "      <td>0</td>\n",
       "      <td>0</td>\n",
       "      <td>-0.8635</td>\n",
       "      <td>-1</td>\n",
       "      <td>0</td>\n",
       "      <td>1</td>\n",
       "    </tr>\n",
       "    <tr>\n",
       "      <th>1398</th>\n",
       "      <td>1987</td>\n",
       "      <td>1980</td>\n",
       "      <td>46</td>\n",
       "      <td>114</td>\n",
       "      <td>81</td>\n",
       "      <td>334</td>\n",
       "      <td>33</td>\n",
       "      <td>90</td>\n",
       "      <td>20</td>\n",
       "      <td>84</td>\n",
       "      <td>18</td>\n",
       "      <td>0</td>\n",
       "      <td>0</td>\n",
       "      <td>0.9938</td>\n",
       "      <td>1</td>\n",
       "      <td>1</td>\n",
       "      <td>1</td>\n",
       "    </tr>\n",
       "    <tr>\n",
       "      <th>450</th>\n",
       "      <td>1972</td>\n",
       "      <td>1970</td>\n",
       "      <td>38</td>\n",
       "      <td>93</td>\n",
       "      <td>65</td>\n",
       "      <td>213</td>\n",
       "      <td>37</td>\n",
       "      <td>60</td>\n",
       "      <td>20</td>\n",
       "      <td>76</td>\n",
       "      <td>5</td>\n",
       "      <td>0</td>\n",
       "      <td>0</td>\n",
       "      <td>-0.9509</td>\n",
       "      <td>-1</td>\n",
       "      <td>1</td>\n",
       "      <td>0</td>\n",
       "    </tr>\n",
       "    <tr>\n",
       "      <th>3163</th>\n",
       "      <td>2005</td>\n",
       "      <td>2000</td>\n",
       "      <td>55</td>\n",
       "      <td>108</td>\n",
       "      <td>89</td>\n",
       "      <td>269</td>\n",
       "      <td>45</td>\n",
       "      <td>75</td>\n",
       "      <td>14</td>\n",
       "      <td>97</td>\n",
       "      <td>11</td>\n",
       "      <td>0</td>\n",
       "      <td>0</td>\n",
       "      <td>0.9661</td>\n",
       "      <td>1</td>\n",
       "      <td>0</td>\n",
       "      <td>1</td>\n",
       "    </tr>\n",
       "    <tr>\n",
       "      <th>2169</th>\n",
       "      <td>1996</td>\n",
       "      <td>1990</td>\n",
       "      <td>38</td>\n",
       "      <td>55</td>\n",
       "      <td>68</td>\n",
       "      <td>157</td>\n",
       "      <td>32</td>\n",
       "      <td>23</td>\n",
       "      <td>8</td>\n",
       "      <td>68</td>\n",
       "      <td>9</td>\n",
       "      <td>0</td>\n",
       "      <td>0</td>\n",
       "      <td>0.2263</td>\n",
       "      <td>1</td>\n",
       "      <td>0</td>\n",
       "      <td>0</td>\n",
       "    </tr>\n",
       "    <tr>\n",
       "      <th>166</th>\n",
       "      <td>1965</td>\n",
       "      <td>1960</td>\n",
       "      <td>54</td>\n",
       "      <td>185</td>\n",
       "      <td>94</td>\n",
       "      <td>395</td>\n",
       "      <td>97</td>\n",
       "      <td>58</td>\n",
       "      <td>22</td>\n",
       "      <td>102</td>\n",
       "      <td>9</td>\n",
       "      <td>0</td>\n",
       "      <td>0</td>\n",
       "      <td>0.9933</td>\n",
       "      <td>1</td>\n",
       "      <td>1</td>\n",
       "      <td>1</td>\n",
       "    </tr>\n",
       "    <tr>\n",
       "      <th>1532</th>\n",
       "      <td>1989</td>\n",
       "      <td>1980</td>\n",
       "      <td>51</td>\n",
       "      <td>118</td>\n",
       "      <td>85</td>\n",
       "      <td>256</td>\n",
       "      <td>50</td>\n",
       "      <td>72</td>\n",
       "      <td>18</td>\n",
       "      <td>98</td>\n",
       "      <td>10</td>\n",
       "      <td>0</td>\n",
       "      <td>0</td>\n",
       "      <td>0.9349</td>\n",
       "      <td>1</td>\n",
       "      <td>1</td>\n",
       "      <td>1</td>\n",
       "    </tr>\n",
       "  </tbody>\n",
       "</table>\n",
       "</div>"
      ],
      "text/plain": [
       "      year  decade  unique_words  density  unique_words_raw  density_raw  \\\n",
       "3200  2005    2000            85      201               125          443   \n",
       "3463  2007    2000            31       40                61          170   \n",
       "1144  1984    1980            41      149                71          339   \n",
       "2497  1999    1990            72      134               111          285   \n",
       "1398  1987    1980            46      114                81          334   \n",
       "450   1972    1970            38       93                65          213   \n",
       "3163  2005    2000            55      108                89          269   \n",
       "2169  1996    1990            38       55                68          157   \n",
       "166   1965    1960            54      185                94          395   \n",
       "1532  1989    1980            51      118                85          256   \n",
       "\n",
       "      nouns  verbs  adjectives  syllables  most_used_freq  explicit  \\\n",
       "3200    126     84          18        147              15         0   \n",
       "3463     20     49           3         63               3         0   \n",
       "1144     57     93          11         71              36         0   \n",
       "2497     59     54          16        123              13         0   \n",
       "1398     33     90          20         84              18         0   \n",
       "450      37     60          20         76               5         0   \n",
       "3163     45     75          14         97              11         0   \n",
       "2169     32     23           8         68               9         0   \n",
       "166      97     58          22        102               9         0   \n",
       "1532     50     72          18         98              10         0   \n",
       "\n",
       "      total_curses  sentiment  sentiment_polarity  predict  charted  \n",
       "3200             0     0.9898                   1        0        1  \n",
       "3463             0     0.8442                   1        0        0  \n",
       "1144             0     0.9517                   1        1        1  \n",
       "2497             0    -0.8635                  -1        0        1  \n",
       "1398             0     0.9938                   1        1        1  \n",
       "450              0    -0.9509                  -1        1        0  \n",
       "3163             0     0.9661                   1        0        1  \n",
       "2169             0     0.2263                   1        0        0  \n",
       "166              0     0.9933                   1        1        1  \n",
       "1532             0     0.9349                   1        1        1  "
      ]
     },
     "execution_count": 11,
     "metadata": {},
     "output_type": "execute_result"
    }
   ],
   "source": [
    "df_test.tail(10)"
   ]
  },
  {
   "cell_type": "code",
   "execution_count": 29,
   "metadata": {
    "collapsed": false
   },
   "outputs": [
    {
     "data": {
      "text/plain": [
       "<seaborn.axisgrid.FacetGrid at 0x7fee508f9f10>"
      ]
     },
     "execution_count": 29,
     "metadata": {},
     "output_type": "execute_result"
    },
    {
     "data": {
      "text/plain": [
       "<matplotlib.figure.Figure at 0x7fee52cf2c90>"
      ]
     },
     "metadata": {},
     "output_type": "display_data"
    },
    {
     "data": {
      "image/png": "[encoded data removed]",
      "text/plain": [
       "<matplotlib.figure.Figure at 0x7fee52849b50>"
      ]
     },
     "metadata": {},
     "output_type": "display_data"
    }
   ],
   "source": [
    "def qqplot(x, y, **kwargs):\n",
    "    _, xr = stats.probplot(x, fit=False)\n",
    "    _, yr = stats.probplot(y, fit=False)\n",
    "    plt.scatter(xr, yr, **kwargs)\n",
    "\n",
    "plt.figure(figsize=(12, 5))\n",
    "g = FacetGrid(df_test, col='sentiment_polarity', hue='predict', row='decade', size=4)\n",
    "g.map(qqplot, 'verbs', 'unique_words')\n",
    "g.add_legend()"
   ]
  },
  {
   "cell_type": "code",
   "execution_count": null,
   "metadata": {
    "collapsed": true
   },
   "outputs": [],
   "source": []
  }
 ],
 "metadata": {
  "kernelspec": {
   "display_name": "Python 2",
   "language": "python",
   "name": "python2"
  },
  "language_info": {
   "codemirror_mode": {
    "name": "ipython",
    "version": 2
   },
   "file_extension": ".py",
   "mimetype": "text/x-python",
   "name": "python",
   "nbconvert_exporter": "python",
   "pygments_lexer": "ipython2",
   "version": "2.7.12"
  }
 },
 "nbformat": 4,
 "nbformat_minor": 0
}
