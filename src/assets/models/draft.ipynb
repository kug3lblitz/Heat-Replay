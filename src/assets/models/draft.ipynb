{
 "cells": [
  {
   "cell_type": "code",
   "execution_count": 1,
   "metadata": {
    "collapsed": false
   },
   "outputs": [],
   "source": [
    "import numpy as np\n",
    "import pandas as pd\n",
    "\n",
    "import seaborn as sns\n",
    "from sklearn import cross_validation, grid_search, metrics\n",
    "import matplotlib.pyplot as plt\n",
    "sns.set(style=\"whitegrid\", font_scale=1)\n",
    "%matplotlib inline"
   ]
  },
  {
   "cell_type": "code",
   "execution_count": 2,
   "metadata": {
    "collapsed": false
   },
   "outputs": [],
   "source": [
    "# URL to dataset\n",
    "dataUrl = 'https://raw.githubusercontent.com/kug3lblitz/Heat-Replay/master/src/data/final/final.csv'\n",
    "\n",
    "# Load the dataset\n",
    "df = pd.read_csv(dataUrl)"
   ]
  },
  {
   "cell_type": "code",
   "execution_count": 3,
   "metadata": {
    "collapsed": false
   },
   "outputs": [
    {
     "data": {
      "text/html": [
       "<div>\n",
       "<table border=\"1\" class=\"dataframe\">\n",
       "  <thead>\n",
       "    <tr style=\"text-align: right;\">\n",
       "      <th></th>\n",
       "      <th>year</th>\n",
       "      <th>decade</th>\n",
       "      <th>unique_words</th>\n",
       "      <th>density</th>\n",
       "      <th>unique_words_raw</th>\n",
       "      <th>density_raw</th>\n",
       "      <th>nouns</th>\n",
       "      <th>verbs</th>\n",
       "      <th>adjectives</th>\n",
       "      <th>syllables</th>\n",
       "      <th>most_used_term</th>\n",
       "      <th>most_used_freq</th>\n",
       "      <th>curses</th>\n",
       "      <th>total_curses</th>\n",
       "      <th>reading_score</th>\n",
       "      <th>sentiment</th>\n",
       "      <th>charted</th>\n",
       "    </tr>\n",
       "  </thead>\n",
       "  <tbody>\n",
       "    <tr>\n",
       "      <th>0</th>\n",
       "      <td>1961</td>\n",
       "      <td>1960</td>\n",
       "      <td>36</td>\n",
       "      <td>72</td>\n",
       "      <td>65</td>\n",
       "      <td>158</td>\n",
       "      <td>34</td>\n",
       "      <td>30</td>\n",
       "      <td>10</td>\n",
       "      <td>70</td>\n",
       "      <td>rose</td>\n",
       "      <td>7</td>\n",
       "      <td>0</td>\n",
       "      <td>0</td>\n",
       "      <td>2.367848</td>\n",
       "      <td>0.9885</td>\n",
       "      <td>0</td>\n",
       "    </tr>\n",
       "    <tr>\n",
       "      <th>1</th>\n",
       "      <td>1961</td>\n",
       "      <td>1960</td>\n",
       "      <td>45</td>\n",
       "      <td>91</td>\n",
       "      <td>74</td>\n",
       "      <td>197</td>\n",
       "      <td>45</td>\n",
       "      <td>37</td>\n",
       "      <td>19</td>\n",
       "      <td>81</td>\n",
       "      <td>name</td>\n",
       "      <td>6</td>\n",
       "      <td>0</td>\n",
       "      <td>0</td>\n",
       "      <td>2.771777</td>\n",
       "      <td>0.9712</td>\n",
       "      <td>1</td>\n",
       "    </tr>\n",
       "    <tr>\n",
       "      <th>2</th>\n",
       "      <td>1961</td>\n",
       "      <td>1960</td>\n",
       "      <td>54</td>\n",
       "      <td>103</td>\n",
       "      <td>88</td>\n",
       "      <td>223</td>\n",
       "      <td>45</td>\n",
       "      <td>48</td>\n",
       "      <td>17</td>\n",
       "      <td>98</td>\n",
       "      <td>babi</td>\n",
       "      <td>10</td>\n",
       "      <td>0</td>\n",
       "      <td>0</td>\n",
       "      <td>3.885650</td>\n",
       "      <td>0.9971</td>\n",
       "      <td>1</td>\n",
       "    </tr>\n",
       "    <tr>\n",
       "      <th>3</th>\n",
       "      <td>1961</td>\n",
       "      <td>1960</td>\n",
       "      <td>42</td>\n",
       "      <td>148</td>\n",
       "      <td>66</td>\n",
       "      <td>263</td>\n",
       "      <td>81</td>\n",
       "      <td>61</td>\n",
       "      <td>36</td>\n",
       "      <td>76</td>\n",
       "      <td>love</td>\n",
       "      <td>24</td>\n",
       "      <td>0</td>\n",
       "      <td>0</td>\n",
       "      <td>2.889886</td>\n",
       "      <td>0.9993</td>\n",
       "      <td>1</td>\n",
       "    </tr>\n",
       "    <tr>\n",
       "      <th>4</th>\n",
       "      <td>1961</td>\n",
       "      <td>1960</td>\n",
       "      <td>28</td>\n",
       "      <td>131</td>\n",
       "      <td>60</td>\n",
       "      <td>354</td>\n",
       "      <td>56</td>\n",
       "      <td>77</td>\n",
       "      <td>5</td>\n",
       "      <td>57</td>\n",
       "      <td>come</td>\n",
       "      <td>38</td>\n",
       "      <td>0</td>\n",
       "      <td>0</td>\n",
       "      <td>2.940000</td>\n",
       "      <td>0.9812</td>\n",
       "      <td>1</td>\n",
       "    </tr>\n",
       "    <tr>\n",
       "      <th>5</th>\n",
       "      <td>1961</td>\n",
       "      <td>1960</td>\n",
       "      <td>50</td>\n",
       "      <td>105</td>\n",
       "      <td>79</td>\n",
       "      <td>181</td>\n",
       "      <td>39</td>\n",
       "      <td>40</td>\n",
       "      <td>24</td>\n",
       "      <td>80</td>\n",
       "      <td>mari</td>\n",
       "      <td>13</td>\n",
       "      <td>0</td>\n",
       "      <td>0</td>\n",
       "      <td>3.135470</td>\n",
       "      <td>0.9789</td>\n",
       "      <td>1</td>\n",
       "    </tr>\n",
       "    <tr>\n",
       "      <th>6</th>\n",
       "      <td>1961</td>\n",
       "      <td>1960</td>\n",
       "      <td>39</td>\n",
       "      <td>75</td>\n",
       "      <td>70</td>\n",
       "      <td>160</td>\n",
       "      <td>28</td>\n",
       "      <td>35</td>\n",
       "      <td>21</td>\n",
       "      <td>81</td>\n",
       "      <td>take</td>\n",
       "      <td>13</td>\n",
       "      <td>0</td>\n",
       "      <td>0</td>\n",
       "      <td>3.503750</td>\n",
       "      <td>0.9978</td>\n",
       "      <td>1</td>\n",
       "    </tr>\n",
       "    <tr>\n",
       "      <th>7</th>\n",
       "      <td>1961</td>\n",
       "      <td>1960</td>\n",
       "      <td>50</td>\n",
       "      <td>94</td>\n",
       "      <td>78</td>\n",
       "      <td>190</td>\n",
       "      <td>62</td>\n",
       "      <td>17</td>\n",
       "      <td>8</td>\n",
       "      <td>83</td>\n",
       "      <td>never</td>\n",
       "      <td>6</td>\n",
       "      <td>0</td>\n",
       "      <td>0</td>\n",
       "      <td>3.074737</td>\n",
       "      <td>-0.9081</td>\n",
       "      <td>1</td>\n",
       "    </tr>\n",
       "    <tr>\n",
       "      <th>8</th>\n",
       "      <td>1961</td>\n",
       "      <td>1960</td>\n",
       "      <td>53</td>\n",
       "      <td>63</td>\n",
       "      <td>92</td>\n",
       "      <td>166</td>\n",
       "      <td>25</td>\n",
       "      <td>41</td>\n",
       "      <td>18</td>\n",
       "      <td>105</td>\n",
       "      <td>one</td>\n",
       "      <td>4</td>\n",
       "      <td>0</td>\n",
       "      <td>0</td>\n",
       "      <td>4.993855</td>\n",
       "      <td>0.2533</td>\n",
       "      <td>1</td>\n",
       "    </tr>\n",
       "    <tr>\n",
       "      <th>9</th>\n",
       "      <td>1961</td>\n",
       "      <td>1960</td>\n",
       "      <td>48</td>\n",
       "      <td>57</td>\n",
       "      <td>79</td>\n",
       "      <td>124</td>\n",
       "      <td>29</td>\n",
       "      <td>24</td>\n",
       "      <td>7</td>\n",
       "      <td>83</td>\n",
       "      <td>river</td>\n",
       "      <td>5</td>\n",
       "      <td>0</td>\n",
       "      <td>0</td>\n",
       "      <td>4.648387</td>\n",
       "      <td>-0.3400</td>\n",
       "      <td>1</td>\n",
       "    </tr>\n",
       "  </tbody>\n",
       "</table>\n",
       "</div>"
      ],
      "text/plain": [
       "   year  decade  unique_words  density  unique_words_raw  density_raw  nouns  \\\n",
       "0  1961    1960            36       72                65          158     34   \n",
       "1  1961    1960            45       91                74          197     45   \n",
       "2  1961    1960            54      103                88          223     45   \n",
       "3  1961    1960            42      148                66          263     81   \n",
       "4  1961    1960            28      131                60          354     56   \n",
       "5  1961    1960            50      105                79          181     39   \n",
       "6  1961    1960            39       75                70          160     28   \n",
       "7  1961    1960            50       94                78          190     62   \n",
       "8  1961    1960            53       63                92          166     25   \n",
       "9  1961    1960            48       57                79          124     29   \n",
       "\n",
       "   verbs  adjectives  syllables most_used_term  most_used_freq  curses  \\\n",
       "0     30          10         70           rose               7       0   \n",
       "1     37          19         81           name               6       0   \n",
       "2     48          17         98           babi              10       0   \n",
       "3     61          36         76           love              24       0   \n",
       "4     77           5         57           come              38       0   \n",
       "5     40          24         80           mari              13       0   \n",
       "6     35          21         81           take              13       0   \n",
       "7     17           8         83          never               6       0   \n",
       "8     41          18        105            one               4       0   \n",
       "9     24           7         83          river               5       0   \n",
       "\n",
       "   total_curses  reading_score  sentiment  charted  \n",
       "0             0       2.367848     0.9885        0  \n",
       "1             0       2.771777     0.9712        1  \n",
       "2             0       3.885650     0.9971        1  \n",
       "3             0       2.889886     0.9993        1  \n",
       "4             0       2.940000     0.9812        1  \n",
       "5             0       3.135470     0.9789        1  \n",
       "6             0       3.503750     0.9978        1  \n",
       "7             0       3.074737    -0.9081        1  \n",
       "8             0       4.993855     0.2533        1  \n",
       "9             0       4.648387    -0.3400        1  "
      ]
     },
     "execution_count": 3,
     "metadata": {},
     "output_type": "execute_result"
    }
   ],
   "source": [
    "# Check head\n",
    "df.head(10)"
   ]
  },
  {
   "cell_type": "markdown",
   "metadata": {},
   "source": [
    "### Random Forest"
   ]
  },
  {
   "cell_type": "code",
   "execution_count": 4,
   "metadata": {
    "collapsed": false
   },
   "outputs": [],
   "source": [
    "from sklearn import ensemble\n",
    "\n",
    "# Instantiate model\n",
    "rf = ensemble.RandomForestClassifier()"
   ]
  },
  {
   "cell_type": "code",
   "execution_count": 10,
   "metadata": {
    "collapsed": true
   },
   "outputs": [],
   "source": [
    "def sentiment(row):\n",
    "\n",
    "    if row['sentiment'] < 0:\n",
    "        return -1\n",
    "    elif row['sentiment'] == 0:\n",
    "        return 0\n",
    "    elif row['sentiment'] > 0:\n",
    "        return 1\n",
    "\n",
    "def reading_score(row):\n",
    "\n",
    "    if row['reading_score'] < 3:\n",
    "        return 0\n",
    "    elif row['reading_score'] >= 3:\n",
    "        return 1\n",
    "\n",
    "\n",
    "# df['test'] = df.apply(sentiment, axis=1)\n",
    "df['test'] = df.apply(reading_score, axis=1)"
   ]
  },
  {
   "cell_type": "code",
   "execution_count": 14,
   "metadata": {
    "collapsed": false
   },
   "outputs": [
    {
     "name": "stdout",
     "output_type": "stream",
     "text": [
      "['test_0', 'test_1', 'verbs']\n"
     ]
    }
   ],
   "source": [
    "# create dummy variables for `DAY_OF_WEEK` feature\n",
    "# this check allows this code to be run multiple times\n",
    "if 'test' in df.columns:\n",
    "    # get dummy variables for DAY_OF_WEEK\n",
    "    df_new = df.join(pd.get_dummies(df['test'], prefix='test'))\n",
    "    # remove DAY_OF_WEEK column\n",
    "    df_new.drop(['test'], axis=1, inplace=True)\n",
    "\n",
    "# list of features to use to build model\n",
    "features = [i for i in df_new.columns if 'test_' in i]\n",
    "features += ['verbs']\n",
    "print features"
   ]
  },
  {
   "cell_type": "code",
   "execution_count": 15,
   "metadata": {
    "collapsed": false
   },
   "outputs": [],
   "source": [
    "# set X and y and build model\n",
    "X = df_new[features]\n",
    "y = df_new['charted']\n",
    "\n",
    "# train model\n",
    "rf = ensemble.RandomForestClassifier(n_estimators=512)\n",
    "rf.fit(X, y)\n",
    "# predict\n",
    "df_new['probability'] = rf.predict_proba(X).T[1]"
   ]
  },
  {
   "cell_type": "code",
   "execution_count": 16,
   "metadata": {
    "collapsed": false
   },
   "outputs": [
    {
     "name": "stdout",
     "output_type": "stream",
     "text": [
      "[(0.0, 0.0, 0.5, 1.0), (0.5, 0.0, 0.0, 1.0)]\n",
      "3904\n"
     ]
    },
    {
     "data": {
      "text/plain": [
       "<matplotlib.legend.Legend at 0x7f454a664a10>"
      ]
     },
     "execution_count": 16,
     "metadata": {},
     "output_type": "execute_result"
    },
    {
     "data": {
      "image/png": "[encoded data removed]",
      "text/plain": [
       "<matplotlib.figure.Figure at 0x7f454d448750>"
      ]
     },
     "metadata": {},
     "output_type": "display_data"
    }
   ],
   "source": [
    "# plot\n",
    "ax = plt.subplot(111)\n",
    "labels = [i for i in df_new.columns if 'test_' in i]\n",
    "from matplotlib import cm\n",
    "colors = [ cm.jet(x) for x in np.linspace(0, 1, len(labels)) ]\n",
    "print colors\n",
    "print len(df_new)\n",
    "for i, v in enumerate(labels):\n",
    "    df_new[df_new[features[i]] == 1].plot(\n",
    "        x='verbs', y='probability', kind='scatter', label=v, color=colors[i], ax=ax\n",
    "    )\n",
    "\n",
    "ax.set(title='Probability of Charted\\n Based on Sentiment Value and Verbs')\n",
    "plt.legend(loc='upper right')"
   ]
  },
  {
   "cell_type": "code",
   "execution_count": null,
   "metadata": {
    "collapsed": true
   },
   "outputs": [],
   "source": []
  }
 ],
 "metadata": {
  "kernelspec": {
   "display_name": "Python 2",
   "language": "python",
   "name": "python2"
  },
  "language_info": {
   "codemirror_mode": {
    "name": "ipython",
    "version": 2
   },
   "file_extension": ".py",
   "mimetype": "text/x-python",
   "name": "python",
   "nbconvert_exporter": "python",
   "pygments_lexer": "ipython2",
   "version": "2.7.12"
  }
 },
 "nbformat": 4,
 "nbformat_minor": 0
}
